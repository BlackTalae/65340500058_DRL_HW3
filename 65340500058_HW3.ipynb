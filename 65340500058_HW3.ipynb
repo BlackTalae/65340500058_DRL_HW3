{
 "cells": [
  {
   "cell_type": "markdown",
   "metadata": {},
   "source": [
    "# **Homework 3: Function-based RL**\n",
    "#### **Created by 65340500058 Anuwit Intet**"
   ]
  },
  {
   "cell_type": "markdown",
   "metadata": {},
   "source": [
    "## **Learning Objectives:**\n",
    "\n",
    "- Understand how function approximation works and how to implement it.\n",
    "\n",
    "- Understand how policy-based RL works and how to implement it.\n",
    "\n",
    "- Understand how advanced RL algorithms balance exploration and exploitation.\n",
    "\n",
    "- Be able to differentiate RL algorithms based on stochastic or deterministic policies, as well as value-based, policy-based, or Actor-Critic approaches.\n",
    "\n",
    "- Gain insight into different reinforcement learning algorithms, including Linear Q-Learning, Deep Q-Network (DQN), the REINFORCE algorithm, and the Actor-Critic algorithm. Analyze their strengths and weaknesses.\n"
   ]
  },
  {
   "cell_type": "markdown",
   "metadata": {},
   "source": [
    "## <font color=\"pink\">**Part 1: Understanding the Algorithm**</font>"
   ]
  },
  {
   "cell_type": "markdown",
   "metadata": {},
   "source": [
    "In this homework, you have to implement 4 different function approximation-based RL algorithms:\n",
    "\n",
    "- Linear Q-Learning\n",
    " \n",
    "- Deep Q-Network (DQN)\n",
    "\n",
    "- REINFORCE algorithm\n",
    "\n",
    "- One algorithm chosen from the following Actor-Critic methods:\n",
    "\n",
    "    - Deep Deterministic Policy Gradient (DDPG)\n",
    "\n",
    "    - Advantage Actor-Critic (A2C)\n",
    "\n",
    "    - Proximal Policy Optimization (PPO)\n",
    "    \n",
    "    - Soft Actor-Critic (SAC)\n",
    "\n",
    "For each algorithm, describe whether it follows a value-based, policy-based, or Actor-Critic approach, specify the type of policy it learns (stochastic or deterministic), identify the type of observation space and action space (discrete or continuous), and explain how each advanced RL method balances exploration and exploitation."
   ]
  },
  {
   "cell_type": "markdown",
   "metadata": {},
   "source": [
    "- it follows a value-based, policy-based, or Actor-Critic approach\n",
    "- the type of policy it learns (stochastic or deterministic)\n",
    "- the type of observation space and action space (discrete or continuous)\n",
    "- how each advanced RL method balances exploration and exploitation"
   ]
  },
  {
   "cell_type": "markdown",
   "metadata": {},
   "source": [
    "### <font color=\"yellow\">**Linear Q-Learning**</font>"
   ]
  },
  {
   "cell_type": "markdown",
   "metadata": {},
   "source": [
    "- เป้าหมายของ Q-Learning คือเรียนรู้ฟังก์ชันค่า $Q(s, a)$ ซึ่งบอกว่า **การเลือก action $a$ ใน state $s$ จะได้ expected return เท่าไหร่**\n",
    "\n",
    "- ใน Linear Q-Learning, ฟังก์ชัน $Q$ จะถูกประมาณด้วย:\n",
    "\n",
    "$$\n",
    "Q(s,a) = \\phi(s,a)^T w\n",
    "$$\n",
    "\n",
    "  โดยที่:\n",
    "\n",
    "  - $\\phi(s,a)$ = feature vector ของ state-action pair  \n",
    "  - $w$ = vector ของน้ำหนักที่เรียนรู้\n",
    "\n",
    "- การอัปเดต weight จะใช้กฎต่อไปนี้:\n",
    "\n",
    "$$\n",
    "w \\leftarrow w + \\alpha \\cdot \\delta \\cdot \\phi(s, a)\n",
    "$$\n",
    "\n",
    "โดยที่: $\\delta = r + \\gamma \\max_{a'} Q(s', a') - Q(s, a)$ คือ TD error\n"
   ]
  },
  {
   "cell_type": "markdown",
   "metadata": {},
   "source": [
    "1. ❓ It follows a value-based, policy-based, or Actor-Critic approach?\n",
    "\n",
    "Answer:\n",
    "🔹 Linear Q-Learning เป็น value-based approach\n",
    "มันเรียนรู้ค่าฟังก์ชัน Q(s, a) โดยตรง ซึ่งใช้ในการกำหนดนโยบายโดยเลือก action ที่มีค่า Q สูงสุด\n",
    "2. ❓ The type of policy it learns (stochastic or deterministic)?\n",
    "\n",
    "Answer:\n",
    "🔹 โดยทั่วไป Linear Q-Learning เรียนนโยบายแบบ deterministic\n",
    "เพราะเลือก action ที่มีค่า Q สูงสุดเสมอ:\n",
    "a∗=arg⁡max⁡aQ(s,a)\n",
    "a∗=argamax​Q(s,a)\n",
    "\n",
    "แต่ในระหว่างการฝึก มักใช้ ε-greedy policy เพื่อสำรวจด้วย (สุ่ม action บ้าง) จึงมี การใช้ policy แบบ stochastic ชั่วคราวเพื่อ exploration\n",
    "\n",
    "สรุป:\n",
    "\n",
    "- นโยบายที่เรียนรู้จริง ๆ คือ deterministic\n",
    "\n",
    "- นโยบายระหว่างเรียนรู้เป็น stochastic (ผ่าน ε-greedy)\n",
    "\n",
    "3. ❓ The type of observation space and action space (discrete or continuous)?\n",
    "\n",
    "Answer:\n",
    "\n",
    "🔹 Linear Q-Learning ทำงานได้ดีกับ observation space แบบ continuous (เพราะใช้ feature vector เป็น input)\n",
    "\n",
    "🔸 แต่ action space ต้องเป็น discrete เพราะมันต้องคำนวณ max⁡aQ(s,a)maxa​Q(s,a) ซึ่งต้องไล่ดูทุก action ได้\n",
    "\n",
    "หาก action space เป็น continuous ต้องเปลี่ยนไปใช้วิธีอื่น เช่น DDPG หรือ SAC\n",
    "4. ❓ How each advanced RL method balances exploration and exploitation?\n",
    "\n",
    "Answer:\n",
    "Method\tการ balance Exploration vs Exploitation\n",
    "Q-Learning / Linear Q-Learning\tใช้ ε-greedy policy: random กับ prob. ε และ greedy กับ prob. 1−ε"
   ]
  },
  {
   "cell_type": "markdown",
   "metadata": {},
   "source": [
    "**🎮 ตัวอย่าง Linear Q-Learning บน CartPole**\n",
    "\n",
    "- **State**: เวกเตอร์ขนาด 4:  \n",
    "  $$\n",
    "  s = [x, \\dot{x}, \\theta, \\dot{\\theta}]\n",
    "  $$\n",
    "- **Action space**: มี 2 ค่า (discrete):\n",
    "  - `0` = push cart ไปซ้าย\n",
    "  - `1` = push cart ไปขวา\n",
    "\n",
    "---\n",
    "\n",
    "เราจะประมาณ $Q(s, a)$ ด้วยฟังก์ชันเชิงเส้นแบบนี้:\n",
    "\n",
    "$$\n",
    "Q(s, a) = w_a^T s\n",
    "$$\n",
    "\n",
    "โดยที่:\n",
    "- $w_0$, $w_1$ คือ weight vectors สำหรับ action 0 และ 1 ตามลำดับ\n",
    "- หรือรวมเป็น matrix $W \\in \\mathbb{R}^{2 \\times 4}$\n",
    "\n",
    "---\n",
    "\n",
    "- $s = [0.0, 0.5, 0.05, -0.2]$\n",
    "- $W = \\begin{bmatrix} 0.1 & 0.0 & 0.0 & 0.0 \\\\ 0.0 & 0.1 & 0.0 & 0.0 \\end{bmatrix}$\n",
    "- เลือก action $a = 1$\n",
    "- ได้ reward $r = 1$\n",
    "- next state: $s' = [0.01, 0.55, 0.045, -0.18]$\n",
    "- $\\alpha = 0.1$, $\\gamma = 0.99$\n",
    "\n",
    "---\n",
    "\n",
    "**1. คำนวณ $Q(s, a)$**\n",
    "\n",
    "$$\n",
    "Q(s, a=1) = w_1^T s = 0.0*0.0 + 0.1*0.5 + 0.0*0.05 + 0.0*(-0.2) = 0.05\n",
    "$$\n",
    "\n",
    "---\n",
    "\n",
    "**2. คำนวณ $\\max_{a'} Q(s', a')$**\n",
    "\n",
    "$$\n",
    "Q(s', 0) = w_0^T s' = 0.1*0.01 = 0.001 \\\\\n",
    "Q(s', 1) = w_1^T s' = 0.1*0.55 = 0.055 \\\\\n",
    "\\Rightarrow \\max_{a'} Q(s', a') = 0.055\n",
    "$$\n",
    "\n",
    "---\n",
    "\n",
    "**3. คำนวณ TD Error**\n",
    "\n",
    "$$\n",
    "\\delta = r + \\gamma \\cdot \\max_{a'} Q(s', a') - Q(s, a) \\\\\n",
    "= 1 + 0.99 \\cdot 0.055 - 0.05 = 1.00445\n",
    "$$\n",
    "\n",
    "---\n",
    "\n",
    "**4. อัปเดต weight**\n",
    "\n",
    "เฉพาะ $w_1$:\n",
    "\n",
    "$$\n",
    "w_1 \\leftarrow w_1 + \\alpha \\cdot \\delta \\cdot s \\\\\n",
    "= [0.0, 0.1, 0.0, 0.0] + 0.1 \\cdot 1.00445 \\cdot [0.0, 0.5, 0.05, -0.2] \\\\\n",
    "= [0.0, 0.1502, 0.005, -0.0201]\n",
    "$$\n",
    "\n",
    "---"
   ]
  },
  {
   "cell_type": "markdown",
   "metadata": {},
   "source": [
    "### <font color=\"yellow\">**Deep Q-Network (DQN)**</font>"
   ]
  },
  {
   "cell_type": "markdown",
   "metadata": {},
   "source": [
    "🔸 DQN คืออะไร?\n",
    "\n",
    "DQN แก้ปัญหานี้โดยใช้ deep neural network มาแทนตาราง Q โดยประมาณฟังก์ชัน: $Q(s,a;θ)$\n",
    "\n",
    "\n",
    "โดยที่:\n",
    "\n",
    "- θ คือพารามิเตอร์ของ neural network\n",
    "\n",
    "- input = สถานะ s (เช่น ภาพจากเกม Atari)\n",
    "\n",
    "- output = ค่า Q สำหรับทุก action\n",
    "\n",
    "🔧 การฝึก DQN ประกอบด้วยเทคนิคหลัก 3 อย่าง:\n",
    "\n",
    "- Experience Replay\n",
    "    - เก็บประสบการณ์ $(s, a, r, s', done)$ ลงใน buffer\n",
    "    - แล้วสุ่ม mini-batch มาใช้ฝึก เพื่อ decorrelate ข้อมูล\n",
    "\n",
    "- Target Network\n",
    "    - ใช้ network แยกอีกอันชื่อ target network QtargetQtarget​ เพื่อคำนวณค่าที่ใช้เป็น target:y=r+γmax⁡a′Qtarget(s′,a′)\n",
    "    - แล้ว update เฉพาะ network หลัก Q เป็นระยะ\n",
    "\n",
    "- Fixed Action Space\n",
    "    - Action space ต้อง discrete เพื่อให้คำนวณ max⁡aQ(s,a)maxa​Q(s,a) ได้ง่าย\n",
    "\n",
    "🔁 สรุป Training Loop:\n",
    "\n",
    "- รับสถานะ s\n",
    "\n",
    "- เลือก action จาก Q-network ด้วย $\\epsilon$-greedy\n",
    "\n",
    "- ทำ action → ได้ reward r, next state s′\n",
    "\n",
    "- เก็บ transition ลง replay buffer\n",
    "\n",
    "- สุ่ม batch จาก buffer → คำนวณ TD error\n",
    "\n",
    "- อัปเดต θ โดย gradient descent\n",
    "\n",
    "✅ คำถามย่อย\n",
    "1. ❓ It follows a value-based, policy-based, or Actor-Critic approach?\n",
    "\n",
    "คำตอบ:\n",
    "🔹 DQN เป็น value-based approach เพราะมันเรียนรู้ฟังก์ชันค่า Q(s,a)Q(s,a) โดยตรง แล้ว derive policy จากการเลือก action ที่ให้ค่า Q สูงสุด\n",
    "\n",
    "2. ❓ The type of policy it learns (stochastic or deterministic)?\n",
    "\n",
    "คำตอบ:\n",
    "🔸 นโยบายที่เรียนรู้คือ deterministic\n",
    "เพราะมันเลือก action ด้วย:\n",
    "a∗=arg⁡max⁡aQ(s,a)\n",
    "\n",
    "แต่ในระหว่าง training จะใช้: $\\epsilon$ -greedy policy → stochastic เพื่อการ explore\n",
    "\n",
    "ดังนั้น:\n",
    "\n",
    "Phase\tType of policy\n",
    "Training\tStochastic (for exploration)\n",
    "Deployment\tDeterministic (greedy action)\n",
    "\n",
    "3. ❓ The type of observation space and action space?\n",
    "\n",
    "คำตอบ:\n",
    "- Observation Space\tContinuous ได้ เช่น รูปภาพ, เวกเตอร์ ฯลฯ (ผ่าน neural net)\n",
    "- Action Space\tDiscrete เท่านั้น (เพราะ DQN ต้องคำนวณ $\\max_a Q(s, a)$)\n",
    "\n",
    "หากต้องการใช้กับ continuous action ต้องเปลี่ยนไปใช้ DDPG, SAC, หรือ TD3 แทน\n",
    "\n",
    "4. ❓ How does this method balance exploration and exploitation?\n",
    "\n",
    "คำตอบ:\n",
    "- DQN ใช้ ε-greedy strategy ในการ balance:\n",
    "\n",
    "    - โอกาสสุ่ม (explore) = $\\epsilon$\n",
    "\n",
    "    - โอกาสเลือก action ที่ดีที่สุด (exploit) = $1 - \\epsilon$\n",
    "\n",
    "- โดยปรับ $\\epsilon$ ตาม schedule เช่น:\n",
    "\n",
    "    - เริ่มต้นที่ $\\epsilon = 1.0$\n",
    "\n",
    "    - ลดลงทีละน้อยถึงเช่น $\\epsilon = 0.1$ หรือ $\\epsilon = 0.01$"
   ]
  },
  {
   "cell_type": "markdown",
   "metadata": {},
   "source": [
    "### <font color=\"yellow\">**REINFORCE algorithm**</font>"
   ]
  },
  {
   "cell_type": "markdown",
   "metadata": {},
   "source": [
    "### <font color=\"yellow\">**Deep Deterministic Policy Gradient (DDPG)**</font>"
   ]
  },
  {
   "cell_type": "markdown",
   "metadata": {},
   "source": [
    "### <font color=\"yellow\">**Advantage Actor-Critic (A2C)**</font>"
   ]
  },
  {
   "cell_type": "markdown",
   "metadata": {},
   "source": [
    "### <font color=\"yellow\">**Proximal Policy Optimization (PPO)**</font>"
   ]
  },
  {
   "cell_type": "markdown",
   "metadata": {},
   "source": [
    "# 🧠 Proximal Policy Optimization (PPO)\n",
    "\n",
    "## ✅ แนวคิดหลักของ PPO\n",
    "\n",
    "PPO คือหนึ่งใน Policy Gradient algorithms ที่ได้รับความนิยมสูงมาก ซึ่งพัฒนาโดย OpenAI โดยมีเป้าหมายหลักเพื่อ:\n",
    "\n",
    "- ทำให้การอัปเดตนโยบาย (Policy) มีเสถียรภาพ (stable)\n",
    "- เรียนรู้จากข้อมูลที่มาจาก policy ปัจจุบัน (on-policy)\n",
    "- หลีกเลี่ยงการอัปเดตนโยบายแบบ “แรงเกินไป” ซึ่งอาจทำให้ performance แย่ลง\n",
    "\n",
    "---\n",
    "\n",
    "## 🏗 โครงสร้าง PPO\n",
    "\n",
    "PPO ใช้แนวทาง **Actor-Critic** ซึ่งประกอบด้วย:\n",
    "\n",
    "- **Actor**: เรียนรู้นโยบาย $\\pi_\\theta(a|s)$ → ใช้เลือก action\n",
    "- **Critic**: ประเมิน value ของ state หรือ action เช่น $V(s)$ หรือ $Q(s,a)$ → ใช้คำนวณ advantage\n",
    "\n",
    "---\n",
    "\n",
    "## 🔁 หลักการทำงานของ PPO (Step-by-Step)\n",
    "\n",
    "### 1. **Collect Trajectories**\n",
    "- ให้ agent วิ่งใน environment ตาม policy ปัจจุบัน\n",
    "- เก็บข้อมูล: $(s_t, a_t, r_t, \\log \\pi(a_t|s_t), done)$\n",
    "- รอจนได้ rollout ครบ (เช่น 2048 steps หรือ 1 episode)\n",
    "\n",
    "---\n",
    "\n",
    "### 2. **Compute Returns & Advantages**\n",
    "- คำนวณ **Monte Carlo return** หรือใช้ **GAE (Generalized Advantage Estimation)**:\n",
    "  \n",
    "  ```math\n",
    "  A_t = \\delta_t + (\\gamma \\lambda) \\delta_{t+1} + ... ≈ R_t - V(s_t)\n",
    "\n",
    "### 3. Surrogate Objective with Clipping\n",
    "\n",
    "- PPO ใช้ surrogate loss function เพื่อควบคุมการอัปเดตของนโยบาย:\n",
    "- rt(θ)=πθ(at∣st)πθold(at∣st)\n",
    "- LCLIP(θ)=Et[min⁡(rt(θ)At,clip(rt(θ),1−ϵ,1+ϵ)At)]\n",
    "- ถ้า $r_t$ เบี่ยงเบนจาก 1 มากเกินไป → จะถูก clip ไว้ เพื่อป้องกัน policy เปลี่ยนแปลงเร็วเกินไป\n",
    "\n",
    "### 4. Update Policy and Value Function\n",
    "\n",
    "- อัปเดต Actor ด้วย loss จาก surrogate objective\n",
    "\n",
    "- อัปเดต Critic ด้วย MSE loss ระหว่าง $V(s_t)$ กับ return\n",
    "\n",
    "### 5. Repeat Training for Multiple Epochs\n",
    "\n",
    "- ใช้ข้อมูล rollout เดิมฝึกได้หลายรอบ (เช่น 4-10 epochs)\n",
    "\n",
    "- ทำให้ sample efficient โดยไม่ต้องใช้ replay buffer"
   ]
  },
  {
   "cell_type": "markdown",
   "metadata": {},
   "source": [
    "### <font color=\"yellow\">**Soft Actor-Critic (SAC)**</font>"
   ]
  },
  {
   "cell_type": "markdown",
   "metadata": {},
   "source": [
    "## <font color=\"pink\">**Part 2: Setting up Cart-Pole Agent**</font>"
   ]
  },
  {
   "cell_type": "markdown",
   "metadata": {},
   "source": [
    "Similar to the previous homework, you will implement a common components that will be the same in most of the function approximation-based RL in the RL_base_function.py.The core components should include, but are not limited to:\n",
    "\n",
    "1. RL Base class\n",
    "\n",
    "- This class should include:\n",
    "\n",
    "    - Constructor (__init__) to initialize the following parameters:\n",
    "\n",
    "        - Number of actions: The total number of discrete actions available to the agent.\n",
    "\n",
    "        - Action range: The minimum and maximum values defining the range of possible actions.\n",
    "\n",
    "        - Discretize state weight: Weighting factor applied when discretizing the state space for learning.\n",
    "\n",
    "        - Learning rate: Determines how quickly the model updates based on new information.\n",
    "\n",
    "        - Initial epsilon: The starting probability of taking a random action in an ε-greedy policy.\n",
    "\n",
    "        - Epsilon decay rate: The rate at which epsilon decreases over time to favor exploitation over exploration.\n",
    "\n",
    "        - Final epsilon: The lowest value epsilon can reach, ensuring some level of exploration remains.\n",
    "\n",
    "        - Discount factor: A coefficient (γ) that determines the importance of future rewards in decision-making.\n",
    "\n",
    "        - Buffer size: Maximum number of experiences the buffer can hold.\n",
    "\n",
    "        - Batch size: Number of experiences to sample per batch.\n",
    "\n",
    "    - Core Functions\n",
    "\n",
    "        - scale_action(): scale the action (if it is computed from the sigmoid or softmax function) to the proper length.\n",
    "\n",
    "        - decay_epsilon(): Decreases epsilon over time and returns the updated value.\n",
    "\n",
    "- Additional details about these functions are provided in the class file. You may also implement additional functions for further analysis."
   ]
  },
  {
   "cell_type": "markdown",
   "metadata": {},
   "source": [
    "### <font color=\"yellow\">**scale_action()**</font>"
   ]
  },
  {
   "cell_type": "markdown",
   "metadata": {},
   "source": [
    "### <font color=\"yellow\">**decay_epsilon()**</font>"
   ]
  },
  {
   "cell_type": "markdown",
   "metadata": {},
   "source": [
    "2. Replay Buffer Class\n",
    "\n",
    "- A class use to store state, action, reward, next state, and termination status from each timestep in episode to use as a dataset to train neural networks. This class should include:\n",
    "\n",
    "    - Constructor (__init__) to initialize the following parameters:\n",
    "\n",
    "        - memory: FIFO buffer to store the trajectory within a certain time window.\n",
    "\n",
    "        - batch_size: Number of data samples drawn from memory to train the neural network.\n",
    "\n",
    "    - Core Functions\n",
    "\n",
    "        - add(): Add state, action, reward, next state, and termination status to the FIFO buffer. Discard the oldest data in the buffer\n",
    "\n",
    "        - sample(): Sample data from memory to use in the neural network training.\n",
    "\n",
    "    - <font color=\"orange\">**Note that some algorithms may not use all of the data mentioned above to train the neural network.**</font>\n"
   ]
  },
  {
   "cell_type": "markdown",
   "metadata": {},
   "source": [
    "### <font color=\"yellow\">**add()**</font>"
   ]
  },
  {
   "cell_type": "markdown",
   "metadata": {},
   "source": [
    "### <font color=\"yellow\">**sample()**</font>"
   ]
  },
  {
   "cell_type": "markdown",
   "metadata": {},
   "source": [
    "3. Algorithm folder\n",
    "\n",
    "- This folder should include:\n",
    "\n",
    "    - Linear Q Learning class\n",
    "\n",
    "    - Deep Q-Network class\n",
    "\n",
    "    - REINFORCE Class\n",
    "\n",
    "    - One class chosen from the Part 1.\n",
    "\n",
    "- Each class should inherit from the RL Base class in RL_base_function.py and include:\n",
    "\n",
    "    - A constructor which initializes the same variables as the class it inherits from.\n",
    "\n",
    "    - Superclass Initialization (super().__init__()).\n",
    "\n",
    "    - An update() function that updates the agent’s learnable parameters and advances the training step.\n",
    "\n",
    "    - A select_action() function select the action according to current policy.\n",
    "\n",
    "    - A learn() function that train the regression or neural network."
   ]
  },
  {
   "cell_type": "markdown",
   "metadata": {},
   "source": [
    "### <font color=\"yellow\">**Linear Q-Learning class**</font>"
   ]
  },
  {
   "cell_type": "markdown",
   "metadata": {},
   "source": [
    "### <font color=\"yellow\">**Deep Q-Network (DQN) class**</font>"
   ]
  },
  {
   "cell_type": "markdown",
   "metadata": {},
   "source": [
    "### <font color=\"yellow\">**REINFORCE class**</font>"
   ]
  },
  {
   "cell_type": "markdown",
   "metadata": {},
   "source": [
    "### <font color=\"yellow\">**DDPG class**</font>"
   ]
  },
  {
   "cell_type": "markdown",
   "metadata": {},
   "source": [
    "### <font color=\"yellow\">**A2C class**</font>"
   ]
  },
  {
   "cell_type": "markdown",
   "metadata": {},
   "source": [
    "### <font color=\"yellow\">**PPO class**</font>"
   ]
  },
  {
   "cell_type": "markdown",
   "metadata": {},
   "source": [
    "### <font color=\"yellow\">**SAC class**</font>"
   ]
  },
  {
   "cell_type": "markdown",
   "metadata": {},
   "source": [
    "## <font color=\"pink\">**Part 3: Trainning & Playing to stabilize Cart-Pole Agent**</font>"
   ]
  },
  {
   "cell_type": "markdown",
   "metadata": {},
   "source": [
    "You need to implement the training loop in train script and main() in the play script (in the \"Can be modified\" area of both files). Additionally, you must collect data, analyze results, and save models for evaluating agent performance.\n",
    "\n",
    "- Training the Agent\n",
    "\n",
    "    - Stabilizing Cart-Pole Task\n",
    "\n",
    "        ```python\n",
    "        python scripts/Function_based/train.py --task Stabilize-Isaac-Cartpole-v0\n",
    "        ```\n",
    "\n",
    "    - Swing-up Cart-Pole Task (Optional)\n",
    "\n",
    "        ```python\n",
    "        python scripts/Function_based/train.py --task SwingUp-Isaac-Cartpole-v0\n",
    "        ```\n",
    "\n",
    "- Playing\n",
    "\n",
    "    - Stabilize Cart-Pole Task\n",
    "\n",
    "        ```python\n",
    "        python scripts/Function_based/play.py --task Stabilize-Isaac-Cartpole-v0\n",
    "        ``` \n",
    "\n",
    "    - Swing-up Cart-Pole Task (Optional)\n",
    "\n",
    "        ```python\n",
    "        python scripts/Function_based/play.py --task SwingUp-Isaac-Cartpole-v0 \n",
    "        ```"
   ]
  },
  {
   "cell_type": "markdown",
   "metadata": {},
   "source": [
    "### <font color=\"yellow\">**train.py**</font>"
   ]
  },
  {
   "cell_type": "markdown",
   "metadata": {},
   "source": [
    "### <font color=\"yellow\">**play.py**</font>"
   ]
  },
  {
   "cell_type": "markdown",
   "metadata": {},
   "source": [
    "## <font color=\"pink\">**Part 4: Evaluate Cart-Pole Agent performance**</font>"
   ]
  },
  {
   "cell_type": "markdown",
   "metadata": {},
   "source": [
    "You must evaluate the agent's performance in terms of learning efficiency (i.e., how well the agent learns to receive higher rewards) and deployment performance (i.e., how well the agent performs in the Cart-Pole problem). Analyze and visualize the results to determine:\n",
    "\n",
    "- Which algorithm performs best?\n",
    "\n",
    "- Why does it perform better than the others?\n"
   ]
  },
  {
   "cell_type": "markdown",
   "metadata": {},
   "source": [
    "### <font color=\"yellow\">**In term of learning efficiency**</font>"
   ]
  },
  {
   "cell_type": "markdown",
   "metadata": {},
   "source": [
    "### <font color=\"yellow\">**In term of deployment performance**</font>"
   ]
  }
 ],
 "metadata": {
  "language_info": {
   "name": "python"
  }
 },
 "nbformat": 4,
 "nbformat_minor": 2
}
